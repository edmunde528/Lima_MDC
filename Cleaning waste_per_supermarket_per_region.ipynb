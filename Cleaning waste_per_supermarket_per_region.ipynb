{
 "cells": [
  {
   "cell_type": "code",
   "execution_count": null,
   "metadata": {},
   "outputs": [],
   "source": [
    "import pandas as pd\n",
    "import numpy as np"
   ]
  },
  {
   "cell_type": "code",
   "execution_count": null,
   "metadata": {},
   "outputs": [],
   "source": [
    "Waste_per_supermarket_per_region = pd.read_csv('C:/TigergraphData/2021 waste per supermarket per region.csv')\n"
   ]
  },
  {
   "cell_type": "code",
   "execution_count": null,
   "metadata": {},
   "outputs": [],
   "source": [
    "Waste_per_supermarket_per_region_df = Waste_per_supermarket_per_region[['Region','Supermarket','Waste']]"
   ]
  },
  {
   "cell_type": "code",
   "execution_count": null,
   "metadata": {},
   "outputs": [],
   "source": [
    "Waste_per_supermarket_per_region_df['Region'] = Waste_per_supermarket_per_region_df['Region'].replace(['East of England'],'East')\n",
    "Waste_per_supermarket_per_region_df['Region'] = Waste_per_supermarket_per_region_df['Region'].replace(['Yorkshire & Humber'],'Yorkshire & The Humber')"
   ]
  },
  {
   "cell_type": "code",
   "execution_count": null,
   "metadata": {},
   "outputs": [],
   "source": [
    "Waste_per_supermarket_per_region_df['Waste'].astype(int)"
   ]
  },
  {
   "cell_type": "code",
   "execution_count": null,
   "metadata": {},
   "outputs": [],
   "source": [
    "Waste_per_supermarket_per_region_df[:]"
   ]
  },
  {
   "cell_type": "code",
   "execution_count": null,
   "metadata": {},
   "outputs": [],
   "source": [
    "Waste_per_supermarket_per_region_df.to_csv('/Tigergraph_Clean/Waste_per_supermarket_per_region.csv')"
   ]
  }
 ],
 "metadata": {
  "interpreter": {
   "hash": "30331bc4d088b30786c5e7ce94de570b2ee055dadd04ad659f6fca28de5abed8"
  },
  "kernelspec": {
   "display_name": "Python 3.9.7 ('base')",
   "language": "python",
   "name": "python3"
  },
  "language_info": {
   "codemirror_mode": {
    "name": "ipython",
    "version": 3
   },
   "file_extension": ".py",
   "mimetype": "text/x-python",
   "name": "python",
   "nbconvert_exporter": "python",
   "pygments_lexer": "ipython3",
   "version": "3.9.7"
  },
  "orig_nbformat": 4
 },
 "nbformat": 4,
 "nbformat_minor": 2
}
