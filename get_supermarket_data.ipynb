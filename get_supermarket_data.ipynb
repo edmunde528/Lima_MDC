{
 "cells": [
  {
   "cell_type": "code",
   "execution_count": 1,
   "metadata": {},
   "outputs": [],
   "source": [
    "from selenium import webdriver\n",
    "from bs4 import BeautifulSoup\n",
    "import json\n",
    "import time\n"
   ]
  },
  {
   "cell_type": "code",
   "execution_count": null,
   "metadata": {},
   "outputs": [],
   "source": [
    "with open('tesco_list.txt','r') as f:\n",
    "    place_list = f.readlines()"
   ]
  },
  {
   "cell_type": "code",
   "execution_count": null,
   "metadata": {},
   "outputs": [],
   "source": [
    "for i in range(len(place_list)):\n",
    "    place_list[i] = place_list[i].replace('\\n','').replace(' ','-').lower()"
   ]
  },
  {
   "cell_type": "code",
   "execution_count": null,
   "metadata": {},
   "outputs": [],
   "source": [
    "'bishops-stortford' in place_list"
   ]
  },
  {
   "cell_type": "code",
   "execution_count": null,
   "metadata": {},
   "outputs": [],
   "source": [
    "import time\n",
    "my_dict = {}\n",
    "driver = webdriver.Chrome()\n",
    "for place in place_list:\n",
    "    driver.get(f'https://www.tesco.com/store-locator/{place}')\n",
    "    soup = BeautifulSoup(driver.page_source, 'html.parser')\n",
    "    tag = 'address'\n",
    "    attributes ={'class':'Address-content'}\n",
    "    table_soup = soup.find_all(tag, attributes)\n",
    "    my_list = []\n",
    "    for i in range(len(table_soup)):\n",
    "        address_soup = table_soup[i].find_all('span')\n",
    "        my_string = ' '.join([j.text for j in address_soup])\n",
    "        my_list.append(my_string)\n",
    "    \n",
    "    my_dict[f'{place}'] = my_list"
   ]
  },
  {
   "cell_type": "code",
   "execution_count": null,
   "metadata": {},
   "outputs": [],
   "source": [
    "with open('tesco_dict.json','w') as f:\n",
    "    json.dump(my_dict, f)"
   ]
  },
  {
   "cell_type": "code",
   "execution_count": null,
   "metadata": {},
   "outputs": [],
   "source": [
    "for shop in ['asda','sainsbury-s','morrisons']:\n",
    "\n",
    "    with open(f'{shop}.txt','r') as f:\n",
    "        place_list = f.readlines()\n",
    "    \n",
    "    for i in range(len(place_list)):\n",
    "        place_list[i] = place_list[i].replace('\\n','').replace(' ','-').replace(\"'\",'-').lower()\n",
    "\n",
    "    my_dict = {}\n",
    "    for place in place_list:\n",
    "        driver.get(f'https://www.catalogueoffers.co.uk/stores/{shop}/locations/{place}')\n",
    "        soup = BeautifulSoup(driver.page_source, 'html.parser')\n",
    "        tag = 'div'\n",
    "        attributes ={'class':'location-name'}\n",
    "        table_soup = soup.find_all(tag, attributes)\n",
    "\n",
    "        my_list=[]\n",
    "        for i in table_soup:\n",
    "            address = i.text\n",
    "            my_list.append(address.replace('\\n','').lstrip().rstrip())\n",
    "        my_dict[f'{place}'] = my_list\n",
    "\n",
    "    with open(f'{shop}_dict.json','w') as f:\n",
    "        json.dump(my_dict, f)"
   ]
  },
  {
   "cell_type": "code",
   "execution_count": 28,
   "metadata": {},
   "outputs": [],
   "source": [
    "with open('tesco_dict.json','r') as f:\n",
    "   data = json.load(f)"
   ]
  },
  {
   "cell_type": "code",
   "execution_count": 44,
   "metadata": {},
   "outputs": [
    {
     "data": {
      "text/html": [
       "<div>\n",
       "<style scoped>\n",
       "    .dataframe tbody tr th:only-of-type {\n",
       "        vertical-align: middle;\n",
       "    }\n",
       "\n",
       "    .dataframe tbody tr th {\n",
       "        vertical-align: top;\n",
       "    }\n",
       "\n",
       "    .dataframe thead th {\n",
       "        text-align: right;\n",
       "    }\n",
       "</style>\n",
       "<table border=\"1\" class=\"dataframe\">\n",
       "  <thead>\n",
       "    <tr style=\"text-align: right;\">\n",
       "      <th></th>\n",
       "      <th>Location</th>\n",
       "      <th>Store_Count</th>\n",
       "    </tr>\n",
       "  </thead>\n",
       "  <tbody>\n",
       "    <tr>\n",
       "      <th>0</th>\n",
       "      <td>abbots-langley</td>\n",
       "      <td>1</td>\n",
       "    </tr>\n",
       "    <tr>\n",
       "      <th>1</th>\n",
       "      <td>aberdare</td>\n",
       "      <td>1</td>\n",
       "    </tr>\n",
       "    <tr>\n",
       "      <th>2</th>\n",
       "      <td>aberdeen</td>\n",
       "      <td>10</td>\n",
       "    </tr>\n",
       "    <tr>\n",
       "      <th>3</th>\n",
       "      <td>aberdeenshire</td>\n",
       "      <td>1</td>\n",
       "    </tr>\n",
       "    <tr>\n",
       "      <th>4</th>\n",
       "      <td>abergavenny</td>\n",
       "      <td>1</td>\n",
       "    </tr>\n",
       "    <tr>\n",
       "      <th>...</th>\n",
       "      <td>...</td>\n",
       "      <td>...</td>\n",
       "    </tr>\n",
       "    <tr>\n",
       "      <th>978</th>\n",
       "      <td>yateley</td>\n",
       "      <td>1</td>\n",
       "    </tr>\n",
       "    <tr>\n",
       "      <th>979</th>\n",
       "      <td>yeovil</td>\n",
       "      <td>4</td>\n",
       "    </tr>\n",
       "    <tr>\n",
       "      <th>980</th>\n",
       "      <td>york</td>\n",
       "      <td>9</td>\n",
       "    </tr>\n",
       "    <tr>\n",
       "      <th>981</th>\n",
       "      <td>yr-wyddgrug</td>\n",
       "      <td>1</td>\n",
       "    </tr>\n",
       "    <tr>\n",
       "      <th>982</th>\n",
       "      <td>westward-ho</td>\n",
       "      <td>1</td>\n",
       "    </tr>\n",
       "  </tbody>\n",
       "</table>\n",
       "<p>983 rows × 2 columns</p>\n",
       "</div>"
      ],
      "text/plain": [
       "           Location  Store_Count\n",
       "0    abbots-langley            1\n",
       "1          aberdare            1\n",
       "2          aberdeen           10\n",
       "3     aberdeenshire            1\n",
       "4       abergavenny            1\n",
       "..              ...          ...\n",
       "978         yateley            1\n",
       "979          yeovil            4\n",
       "980            york            9\n",
       "981     yr-wyddgrug            1\n",
       "982     westward-ho            1\n",
       "\n",
       "[983 rows x 2 columns]"
      ]
     },
     "execution_count": 44,
     "metadata": {},
     "output_type": "execute_result"
    }
   ],
   "source": [
    "import pandas as pd\n",
    "df = pd.DataFrame(columns = ['Location', 'Store_Count'])\n",
    "df['Location'] = [location for location in data]\n",
    "df['Store_Count'] = [len(data[location]) for location in data]\n",
    "df"
   ]
  },
  {
   "cell_type": "code",
   "execution_count": 42,
   "metadata": {},
   "outputs": [],
   "source": [
    "df_sorter = pd.read_csv('location_region.csv')\n",
    "df_sorter['Location'] = [df_sorter['Location'][i].replace(' ','-').lower() for i in range(df_sorter.shape[0])]\n"
   ]
  },
  {
   "cell_type": "code",
   "execution_count": 45,
   "metadata": {},
   "outputs": [
    {
     "data": {
      "text/html": [
       "<div>\n",
       "<style scoped>\n",
       "    .dataframe tbody tr th:only-of-type {\n",
       "        vertical-align: middle;\n",
       "    }\n",
       "\n",
       "    .dataframe tbody tr th {\n",
       "        vertical-align: top;\n",
       "    }\n",
       "\n",
       "    .dataframe thead th {\n",
       "        text-align: right;\n",
       "    }\n",
       "</style>\n",
       "<table border=\"1\" class=\"dataframe\">\n",
       "  <thead>\n",
       "    <tr style=\"text-align: right;\">\n",
       "      <th></th>\n",
       "      <th>Store_Count</th>\n",
       "    </tr>\n",
       "    <tr>\n",
       "      <th>Region</th>\n",
       "      <th></th>\n",
       "    </tr>\n",
       "  </thead>\n",
       "  <tbody>\n",
       "    <tr>\n",
       "      <th>East</th>\n",
       "      <td>266</td>\n",
       "    </tr>\n",
       "    <tr>\n",
       "      <th>East Midlands</th>\n",
       "      <td>113</td>\n",
       "    </tr>\n",
       "    <tr>\n",
       "      <th>Isle of Man</th>\n",
       "      <td>1</td>\n",
       "    </tr>\n",
       "    <tr>\n",
       "      <th>London</th>\n",
       "      <td>447</td>\n",
       "    </tr>\n",
       "    <tr>\n",
       "      <th>North East</th>\n",
       "      <td>54</td>\n",
       "    </tr>\n",
       "    <tr>\n",
       "      <th>North West</th>\n",
       "      <td>220</td>\n",
       "    </tr>\n",
       "    <tr>\n",
       "      <th>Northern Ireland</th>\n",
       "      <td>53</td>\n",
       "    </tr>\n",
       "    <tr>\n",
       "      <th>Scotland</th>\n",
       "      <td>211</td>\n",
       "    </tr>\n",
       "    <tr>\n",
       "      <th>South East</th>\n",
       "      <td>411</td>\n",
       "    </tr>\n",
       "    <tr>\n",
       "      <th>South West</th>\n",
       "      <td>271</td>\n",
       "    </tr>\n",
       "    <tr>\n",
       "      <th>Wales</th>\n",
       "      <td>120</td>\n",
       "    </tr>\n",
       "    <tr>\n",
       "      <th>West Midlands</th>\n",
       "      <td>261</td>\n",
       "    </tr>\n",
       "    <tr>\n",
       "      <th>Yorkshire &amp; Humber</th>\n",
       "      <td>206</td>\n",
       "    </tr>\n",
       "  </tbody>\n",
       "</table>\n",
       "</div>"
      ],
      "text/plain": [
       "                    Store_Count\n",
       "Region                         \n",
       "East                        266\n",
       "East Midlands               113\n",
       "Isle of Man                   1\n",
       "London                      447\n",
       "North East                   54\n",
       "North West                  220\n",
       "Northern Ireland             53\n",
       "Scotland                    211\n",
       "South East                  411\n",
       "South West                  271\n",
       "Wales                       120\n",
       "West Midlands               261\n",
       "Yorkshire & Humber          206"
      ]
     },
     "execution_count": 45,
     "metadata": {},
     "output_type": "execute_result"
    }
   ],
   "source": [
    "df_merge = pd.merge(df,df_sorter, on = 'Location', how = 'inner')\n",
    "df_final = df_merge[['Region', 'Store_Count']].groupby('Region').sum()"
   ]
  },
  {
   "cell_type": "code",
   "execution_count": null,
   "metadata": {},
   "outputs": [],
   "source": [
    "df_final.to_csv('tesco_locations.csv')"
   ]
  }
 ],
 "metadata": {
  "interpreter": {
   "hash": "47c07b12d7c7746218042bb498dea98a187e2d90318dfd34eb03925930d7bf73"
  },
  "kernelspec": {
   "display_name": "Python 3.9.7 ('base')",
   "language": "python",
   "name": "python3"
  },
  "language_info": {
   "codemirror_mode": {
    "name": "ipython",
    "version": 3
   },
   "file_extension": ".py",
   "mimetype": "text/x-python",
   "name": "python",
   "nbconvert_exporter": "python",
   "pygments_lexer": "ipython3",
   "version": "3.9.7"
  },
  "orig_nbformat": 4
 },
 "nbformat": 4,
 "nbformat_minor": 2
}
