{
 "cells": [
  {
   "cell_type": "code",
   "execution_count": 1,
   "metadata": {},
   "outputs": [],
   "source": [
    "import pandas as pd"
   ]
  },
  {
   "cell_type": "code",
   "execution_count": 3,
   "metadata": {},
   "outputs": [],
   "source": [
    "df1 = pd.read_csv('tesco_location.csv')\n",
    "df1['Supermarket'] = 'Tesco'\n",
    "df2 = pd.read_csv('sainsburys_location.csv')\n",
    "df2['Supermarket'] = \"Sainsbury's\"\n",
    "df3 = pd.read_csv('asda_location.csv')\n",
    "df3['Supermarket'] = 'Asda'\n",
    "df4 = pd.read_csv('morrisons_location.csv')\n",
    "df4['Supermarket'] = 'Morrisons'"
   ]
  },
  {
   "cell_type": "code",
   "execution_count": 4,
   "metadata": {},
   "outputs": [],
   "source": [
    "df_total = pd.concat([df1,df2,df3,df4], axis=0, sort=False)"
   ]
  },
  {
   "cell_type": "code",
   "execution_count": 5,
   "metadata": {},
   "outputs": [],
   "source": [
    "df_total = df_total.drop(columns = ['County'])\n",
    "df_final = df_total.groupby(['Region', 'Supermarket']).sum()"
   ]
  },
  {
   "cell_type": "code",
   "execution_count": 7,
   "metadata": {},
   "outputs": [],
   "source": [
    "df_final.to_csv('supemarket_region_grouped.csv')"
   ]
  }
 ],
 "metadata": {
  "interpreter": {
   "hash": "47c07b12d7c7746218042bb498dea98a187e2d90318dfd34eb03925930d7bf73"
  },
  "kernelspec": {
   "display_name": "Python 3.9.7 ('base')",
   "language": "python",
   "name": "python3"
  },
  "language_info": {
   "codemirror_mode": {
    "name": "ipython",
    "version": 3
   },
   "file_extension": ".py",
   "mimetype": "text/x-python",
   "name": "python",
   "nbconvert_exporter": "python",
   "pygments_lexer": "ipython3",
   "version": "3.9.7"
  },
  "orig_nbformat": 4
 },
 "nbformat": 4,
 "nbformat_minor": 2
}
