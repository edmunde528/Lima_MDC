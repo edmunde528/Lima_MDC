{
 "cells": [
  {
   "cell_type": "code",
   "execution_count": null,
   "metadata": {},
   "outputs": [],
   "source": [
    "import pandas as pd\n",
    "import numpy as np"
   ]
  },
  {
   "cell_type": "code",
   "execution_count": null,
   "metadata": {},
   "outputs": [],
   "source": [
    "fsm3 = pd.read_csv('/Tigergraphdata/fsm-eligibility.csv')"
   ]
  },
  {
   "cell_type": "code",
   "execution_count": null,
   "metadata": {},
   "outputs": [],
   "source": [
    "fsm3.columns = fsm3.loc[0]\n",
    "fsm3.drop(fsm3.index[[0]],inplace = True)\n"
   ]
  },
  {
   "cell_type": "code",
   "execution_count": null,
   "metadata": {},
   "outputs": [],
   "source": [
    "fsm3[:]\n",
    "fsm3.drop(fsm3.index[[3,9]], inplace = True)"
   ]
  },
  {
   "cell_type": "code",
   "execution_count": null,
   "metadata": {},
   "outputs": [],
   "source": [
    "fsm3.dtypes\n",
    "fsm3.fillna(value = 0, inplace = True)\n",
    "#fsm3.drop(columns=fsm3.columns[5], axis=1, inplace = True)"
   ]
  },
  {
   "cell_type": "code",
   "execution_count": null,
   "metadata": {},
   "outputs": [],
   "source": [
    "fsm3[['Nursery', 'Primary','Secondary','Other']] = fsm3[['Nursery', 'Primary','Secondary','Other']].astype(int)"
   ]
  },
  {
   "cell_type": "code",
   "execution_count": null,
   "metadata": {},
   "outputs": [],
   "source": [
    "\n",
    "fsm3['Total'] = fsm3[['Nursery', 'Primary', 'Secondary']].sum(axis=1)\n"
   ]
  },
  {
   "cell_type": "code",
   "execution_count": null,
   "metadata": {},
   "outputs": [],
   "source": [
    "fsm3['Nursery%ofTotal'] = fsm3['Nursery']/fsm3['Total']\n",
    "fsm3['Primary%ofTotal'] = fsm3['Primary']/fsm3['Total']\n",
    "fsm3['Secondary%ofTotal'] = fsm3['Secondary']/fsm3['Total']"
   ]
  },
  {
   "cell_type": "code",
   "execution_count": null,
   "metadata": {},
   "outputs": [],
   "source": [
    "NurseryMean = fsm3['Nursery%ofTotal'].mean()\n",
    "PrimaryMean = fsm3['Primary%ofTotal'].mean()\n",
    "SecondaryMean = fsm3['Secondary%ofTotal'].mean()"
   ]
  },
  {
   "cell_type": "code",
   "execution_count": null,
   "metadata": {},
   "outputs": [],
   "source": [
    "print(NurseryMean)\n",
    "print(PrimaryMean)\n",
    "print(SecondaryMean)"
   ]
  },
  {
   "cell_type": "code",
   "execution_count": null,
   "metadata": {},
   "outputs": [],
   "source": [
    "fsm3['Nursery+other'] = fsm3['Other'].multiply((fsm3['Nursery%ofTotal'].mean()), axis = 'index')\n",
    "fsm3['Primary+other'] = fsm3['Other'].multiply((fsm3['Primary%ofTotal'].mean()), axis = 'index')\n",
    "fsm3['Secondary+other'] = fsm3['Other'].multiply((fsm3['Secondary%ofTotal'].mean()), axis = 'index')"
   ]
  },
  {
   "cell_type": "code",
   "execution_count": null,
   "metadata": {},
   "outputs": [],
   "source": [
    "fsm3['Nursery'] = fsm3['Nursery+other'].add(fsm3['Nursery'], axis = 'index')\n",
    "fsm3['Primary School'] = fsm3['Primary+other'].add(fsm3['Primary'], axis = 'index')\n",
    "fsm3['Secondary School'] = fsm3['Secondary+other'].add(fsm3['Secondary'], axis = 'index')"
   ]
  },
  {
   "cell_type": "code",
   "execution_count": null,
   "metadata": {},
   "outputs": [],
   "source": [
    "fsm3[:]"
   ]
  },
  {
   "cell_type": "code",
   "execution_count": null,
   "metadata": {},
   "outputs": [],
   "source": [
    "fsm3.drop(columns=fsm3.columns[3:11], axis=1, inplace = True)"
   ]
  },
  {
   "cell_type": "code",
   "execution_count": null,
   "metadata": {},
   "outputs": [],
   "source": [
    "fsm3.drop(columns=fsm3.columns[2:4], axis=1, inplace = True)"
   ]
  },
  {
   "cell_type": "code",
   "execution_count": null,
   "metadata": {},
   "outputs": [],
   "source": [
    "fsm3.sort_values('Region', inplace = True)\n",
    "fsm3.reset_index(drop=True, inplace = True)\n"
   ]
  },
  {
   "cell_type": "code",
   "execution_count": null,
   "metadata": {},
   "outputs": [],
   "source": [
    "fsm3.loc[len(fsm3.index)] = [\"Northern Ireland\",(NurseryMean * 97631),(PrimaryMean * 97631),(SecondaryMean * 97631)]\n",
    "fsm3.loc[len(fsm3.index)] = [\"Wales\",(NurseryMean * 99135),(PrimaryMean * 99135),(SecondaryMean * 99135)]"
   ]
  },
  {
   "cell_type": "code",
   "execution_count": null,
   "metadata": {},
   "outputs": [],
   "source": [
    "fsm3.sort_values('Region', inplace = True)\n",
    "fsm3.reset_index(drop=True, inplace = True)"
   ]
  },
  {
   "cell_type": "code",
   "execution_count": null,
   "metadata": {},
   "outputs": [],
   "source": [
    "fsm3[:]"
   ]
  },
  {
   "cell_type": "code",
   "execution_count": null,
   "metadata": {},
   "outputs": [],
   "source": [
    "fsm3[['Nursery', 'Primary School','Secondary School']] = fsm3[['Nursery', 'Primary School','Secondary School']].astype(int)"
   ]
  },
  {
   "cell_type": "code",
   "execution_count": null,
   "metadata": {},
   "outputs": [],
   "source": [
    "fsm3['Adult'] = 0\n",
    "fsm3['Infant'] = 0"
   ]
  },
  {
   "cell_type": "code",
   "execution_count": null,
   "metadata": {},
   "outputs": [],
   "source": [
    "\n",
    "fsm3 = fsm3.reindex(columns = ['Region','Infant', 'Nursery','Primary School','Secondary School','Adult'])"
   ]
  },
  {
   "cell_type": "code",
   "execution_count": null,
   "metadata": {},
   "outputs": [],
   "source": [
    "fsm3[:]"
   ]
  },
  {
   "cell_type": "code",
   "execution_count": null,
   "metadata": {},
   "outputs": [],
   "source": [
    "fsm3.set_index('Region', inplace = True)\n",
    "    \n",
    "    \n",
    "df_sorted = pd.DataFrame(columns = ['Region','Age Group','FreeSchoolMeals'])\n",
    "df_sort = pd.DataFrame(columns = ['Region','Age Group','FreeSchoolMeals'])\n",
    "for i in fsm3.columns:\n",
    "    df_sort['Region'] = fsm3.index\n",
    "    df_sort['Age Group'] = i\n",
    "    df_sort['FreeSchoolMeals'] =[j for j in fsm3[i]]\n",
    "    df_sorted = pd.concat([df_sorted,df_sort], axis=0)\n",
    "df_sorted"
   ]
  },
  {
   "cell_type": "code",
   "execution_count": null,
   "metadata": {},
   "outputs": [],
   "source": [
    "df_sorted['Region'] = df_sorted['Region'].replace(['East of England'],'East')"
   ]
  },
  {
   "cell_type": "code",
   "execution_count": null,
   "metadata": {},
   "outputs": [],
   "source": [
    "df_sorted[:]"
   ]
  },
  {
   "cell_type": "code",
   "execution_count": null,
   "metadata": {},
   "outputs": [],
   "source": [
    "df_sorted.reset_index(drop=True, inplace = True)\n"
   ]
  },
  {
   "cell_type": "code",
   "execution_count": null,
   "metadata": {},
   "outputs": [],
   "source": [
    "df_sorted.to_csv('/Tigergraph_Clean/Free_School_Meals_Final_Complete')"
   ]
  },
  {
   "cell_type": "code",
   "execution_count": null,
   "metadata": {},
   "outputs": [],
   "source": [
    "pov = pd.read_csv('/Tigergraphdata/age_group.csv')"
   ]
  },
  {
   "cell_type": "code",
   "execution_count": null,
   "metadata": {},
   "outputs": [],
   "source": [
    "fsm3_merge = pd.merge(pov, df_sorted, how = 'inner', on=['Region','Age Group'])"
   ]
  },
  {
   "cell_type": "code",
   "execution_count": null,
   "metadata": {},
   "outputs": [],
   "source": [
    "fsm3_merge[:]"
   ]
  },
  {
   "cell_type": "code",
   "execution_count": null,
   "metadata": {},
   "outputs": [],
   "source": []
  },
  {
   "cell_type": "code",
   "execution_count": null,
   "metadata": {},
   "outputs": [],
   "source": []
  },
  {
   "cell_type": "code",
   "execution_count": null,
   "metadata": {},
   "outputs": [],
   "source": []
  },
  {
   "cell_type": "code",
   "execution_count": null,
   "metadata": {},
   "outputs": [],
   "source": []
  },
  {
   "cell_type": "code",
   "execution_count": null,
   "metadata": {},
   "outputs": [],
   "source": [
    "fsm3_merge['Poverty Rate'] = [fsm3_merge['Adult BHC'][j] if fsm3_merge['Age Group'][j] == 'Adult' else fsm3_merge['Child BHC'][j] for j in range(fsm3_merge.shape[0])]"
   ]
  },
  {
   "cell_type": "code",
   "execution_count": null,
   "metadata": {},
   "outputs": [],
   "source": [
    "fsm3_merge.drop(columns=fsm3_merge.columns[3:7], axis=1, inplace = True)"
   ]
  },
  {
   "cell_type": "code",
   "execution_count": null,
   "metadata": {},
   "outputs": [],
   "source": [
    "fsm3_merge[:]"
   ]
  },
  {
   "cell_type": "code",
   "execution_count": null,
   "metadata": {},
   "outputs": [],
   "source": [
    "fsm3_merge.to_csv('/Tigergraph_Clean/Free_School_Meals_Pov_rate_Final')"
   ]
  },
  {
   "cell_type": "code",
   "execution_count": null,
   "metadata": {},
   "outputs": [],
   "source": []
  }
 ],
 "metadata": {
  "interpreter": {
   "hash": "30331bc4d088b30786c5e7ce94de570b2ee055dadd04ad659f6fca28de5abed8"
  },
  "kernelspec": {
   "display_name": "Python 3.9.7 ('base')",
   "language": "python",
   "name": "python3"
  },
  "language_info": {
   "codemirror_mode": {
    "name": "ipython",
    "version": 3
   },
   "file_extension": ".py",
   "mimetype": "text/x-python",
   "name": "python",
   "nbconvert_exporter": "python",
   "pygments_lexer": "ipython3",
   "version": "3.9.7"
  },
  "orig_nbformat": 4
 },
 "nbformat": 4,
 "nbformat_minor": 2
}
