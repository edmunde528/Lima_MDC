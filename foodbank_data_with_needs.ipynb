{
 "cells": [
  {
   "cell_type": "code",
   "execution_count": 5,
   "metadata": {},
   "outputs": [],
   "source": [
    "import pandas as pd\n",
    "import numpy as np\n",
    "import json"
   ]
  },
  {
   "cell_type": "code",
   "execution_count": 6,
   "metadata": {},
   "outputs": [],
   "source": [
    "df=pd.read_csv('foodbank_data_with_regions.csv')"
   ]
  },
  {
   "cell_type": "code",
   "execution_count": 7,
   "metadata": {},
   "outputs": [],
   "source": [
    "fileObject = open(\"needs.json\", \"r\")\n",
    "jsonContent = fileObject.read()\n",
    "aList = json.loads(jsonContent)"
   ]
  },
  {
   "cell_type": "code",
   "execution_count": 8,
   "metadata": {},
   "outputs": [],
   "source": [
    "list_dict_needs = {}\n",
    "for i in range(len(aList)):\n",
    "    list_dict_needs[aList[i]['foodbank']['name']] = []\n",
    "for i in range(len(aList)):\n",
    "    list_dict_needs[aList[i]['foodbank']['name']] = list_dict_needs[aList[i]['foodbank']['name']] + aList[i]['needs'].split('\\r\\n')"
   ]
  },
  {
   "cell_type": "code",
   "execution_count": 9,
   "metadata": {},
   "outputs": [
    {
     "data": {
      "text/plain": [
       "['Tinned Meat',\n",
       " 'Coffee',\n",
       " 'Fruit Juice',\n",
       " 'Sponge Puddings',\n",
       " 'Powdered Milk',\n",
       " 'Toiletries Including Feminine Hygiene Products , Deodorant',\n",
       " 'Shaving Products']"
      ]
     },
     "execution_count": 9,
     "metadata": {},
     "output_type": "execute_result"
    }
   ],
   "source": [
    "aList[0]['needs'].split('\\r\\n')"
   ]
  },
  {
   "cell_type": "code",
   "execution_count": 10,
   "metadata": {},
   "outputs": [],
   "source": [
    "df['needs'] = [list_dict_needs[df['name'].iloc[i]] if df['name'].iloc[i] in list_dict_needs.keys() else np.nan for i in range(df.shape[0])]"
   ]
  },
  {
   "cell_type": "code",
   "execution_count": 11,
   "metadata": {},
   "outputs": [],
   "source": [
    "df.set_index('name', inplace=True)"
   ]
  },
  {
   "cell_type": "code",
   "execution_count": 12,
   "metadata": {},
   "outputs": [
    {
     "data": {
      "text/plain": [
       "parliamentary_constituency                Caithness, Sutherland and Easter Ross\n",
       "latt_long                                                   58.594524,-3.522128\n",
       "network                                                          Trussell Trust\n",
       "county                                                                 Scotland\n",
       "region                                                                 Scotland\n",
       "needs                         [Tinned Fruit (400gms), Jam/marmalade, Cracker...\n",
       "Name: Caithness, dtype: object"
      ]
     },
     "execution_count": 12,
     "metadata": {},
     "output_type": "execute_result"
    }
   ],
   "source": [
    "df.loc['Caithness']"
   ]
  },
  {
   "cell_type": "code",
   "execution_count": null,
   "metadata": {},
   "outputs": [],
   "source": [
    "df.to_csv('foodbank_locations_and_needs.csv')"
   ]
  }
 ],
 "metadata": {
  "interpreter": {
   "hash": "47c07b12d7c7746218042bb498dea98a187e2d90318dfd34eb03925930d7bf73"
  },
  "kernelspec": {
   "display_name": "Python 3.9.7 ('base')",
   "language": "python",
   "name": "python3"
  },
  "language_info": {
   "codemirror_mode": {
    "name": "ipython",
    "version": 3
   },
   "file_extension": ".py",
   "mimetype": "text/x-python",
   "name": "python",
   "nbconvert_exporter": "python",
   "pygments_lexer": "ipython3",
   "version": "3.9.7"
  },
  "orig_nbformat": 4
 },
 "nbformat": 4,
 "nbformat_minor": 2
}
