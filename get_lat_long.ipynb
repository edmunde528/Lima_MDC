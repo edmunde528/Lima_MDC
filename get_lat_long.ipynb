{
 "cells": [
  {
   "cell_type": "code",
   "execution_count": null,
   "metadata": {},
   "outputs": [],
   "source": [
    "import json\n",
    "from geopy.geocoders import Nominatim"
   ]
  },
  {
   "cell_type": "code",
   "execution_count": null,
   "metadata": {},
   "outputs": [],
   "source": [
    "with open('asda_dict_modified.json','r') as f:\n",
    "   data = json.load(f)\n",
    "\n",
    "geolocator = Nominatim(user_agent=\"jm-test\")\n",
    "latlong_dict = {}\n",
    "failed_list  = []\n",
    "for i in data:\n",
    "    location = []\n",
    "    for j in range(len(data[i])):\n",
    "        try:\n",
    "            location.append((geolocator.geocode(data[i][j][:data[i][j].rindex(' ')]).latitude, geolocator.geocode(data[i][j][:data[i][j].rindex(' ')]).longitude))\n",
    "        except:\n",
    "            failed_list.append([i,data[i][j]])\n",
    "    latlong_dict[i] = location\n",
    "\n",
    "with open('asda_latlong.json','w') as f:\n",
    "   json.dump(latlong_dict, f)"
   ]
  },
  {
   "cell_type": "code",
   "execution_count": null,
   "metadata": {},
   "outputs": [],
   "source": [
    "with open('tesco_dict.json','r') as f:\n",
    "   data = json.load(f)\n",
    "\n",
    "for i in data:\n",
    "    for j in range(len(data[i])):\n",
    "        indexing = data[i][j].rindex(' ', 0, data[i][j].rindex(' '))\n",
    "        data[i][j] = data[i][j][indexing+1:]\n",
    "\n",
    "with open('tesco_latlong.json','w') as f:\n",
    "   json.dump(latlong_dict, f)"
   ]
  }
 ],
 "metadata": {
  "interpreter": {
   "hash": "47c07b12d7c7746218042bb498dea98a187e2d90318dfd34eb03925930d7bf73"
  },
  "kernelspec": {
   "display_name": "Python 3.9.7 ('base')",
   "language": "python",
   "name": "python3"
  },
  "language_info": {
   "name": "python",
   "version": "3.9.7"
  },
  "orig_nbformat": 4
 },
 "nbformat": 4,
 "nbformat_minor": 2
}
